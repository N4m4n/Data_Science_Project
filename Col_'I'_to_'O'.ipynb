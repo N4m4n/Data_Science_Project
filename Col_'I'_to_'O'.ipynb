{
 "cells": [
  {
   "cell_type": "code",
   "execution_count": 2,
   "metadata": {},
   "outputs": [],
   "source": [
    "### from Column 'J' to Column '' in updated dataset ###\n",
    "\n",
    "import pandas as pd\n",
    "from scipy import stats"
   ]
  },
  {
   "cell_type": "code",
   "execution_count": 3,
   "metadata": {},
   "outputs": [],
   "source": [
    "# Add path of updated CSV\n",
    "df = pd.read_csv('D:\\\\IIITD\\\\sem7\\\\DSc\\\\Dsc_Project\\\\Data_Science_Project\\\\dataset\\\\updated_dataset.csv')\n"
   ]
  },
  {
   "cell_type": "code",
   "execution_count": 4,
   "metadata": {},
   "outputs": [
    {
     "name": "stdout",
     "output_type": "stream",
     "text": [
      "0\n",
      "Before :  101766\n",
      "After :  101766\n",
      "0\n",
      "Before :  101766\n",
      "After :  101766\n",
      "0\n",
      "Before :  101766\n",
      "After :  101766\n",
      "0\n",
      "Before :  101766\n",
      "After :  101766\n",
      "0\n",
      "Before :  101766\n",
      "After :  101766\n",
      "0\n",
      "Before :  101766\n",
      "After :  101766\n",
      "0\n",
      "Before :  101766\n",
      "After :  101766\n"
     ]
    }
   ],
   "source": [
    "col_list=['time_in_hospital','num_lab_procedures','num_procedures','num_medications','number_outpatient','number_emergency','number_inpatient']\n",
    "\n",
    "for name in col_list:\n",
    "    missing_values_count = df[name].isnull().sum()\n",
    "    print(missing_values_count)\n",
    "    \n",
    "    rows_before = df.shape[0]\n",
    "    print(\"Before : \",rows_before)\n",
    "    \n",
    "    df.dropna(subset=[name], inplace=True)\n",
    "\n",
    "    \n",
    "    rows_after = df.shape[0]\n",
    "    print(\"After : \",rows_after)\n"
   ]
  },
  {
   "cell_type": "code",
   "execution_count": 7,
   "metadata": {},
   "outputs": [
    {
     "name": "stderr",
     "output_type": "stream",
     "text": [
      "C:\\Users\\Sejal\\AppData\\Local\\Temp\\ipykernel_34120\\2329139629.py:17: FutureWarning: The frame.append method is deprecated and will be removed from pandas in a future version. Use pandas.concat instead.\n",
      "  summary_df = summary_df.append({'Column Name': column_name, 'Mean': mean, 'Median': median,\n",
      "C:\\Users\\Sejal\\AppData\\Local\\Temp\\ipykernel_34120\\2329139629.py:17: FutureWarning: The frame.append method is deprecated and will be removed from pandas in a future version. Use pandas.concat instead.\n",
      "  summary_df = summary_df.append({'Column Name': column_name, 'Mean': mean, 'Median': median,\n",
      "C:\\Users\\Sejal\\AppData\\Local\\Temp\\ipykernel_34120\\2329139629.py:17: FutureWarning: The frame.append method is deprecated and will be removed from pandas in a future version. Use pandas.concat instead.\n",
      "  summary_df = summary_df.append({'Column Name': column_name, 'Mean': mean, 'Median': median,\n",
      "C:\\Users\\Sejal\\AppData\\Local\\Temp\\ipykernel_34120\\2329139629.py:17: FutureWarning: The frame.append method is deprecated and will be removed from pandas in a future version. Use pandas.concat instead.\n",
      "  summary_df = summary_df.append({'Column Name': column_name, 'Mean': mean, 'Median': median,\n",
      "C:\\Users\\Sejal\\AppData\\Local\\Temp\\ipykernel_34120\\2329139629.py:17: FutureWarning: The frame.append method is deprecated and will be removed from pandas in a future version. Use pandas.concat instead.\n",
      "  summary_df = summary_df.append({'Column Name': column_name, 'Mean': mean, 'Median': median,\n",
      "C:\\Users\\Sejal\\AppData\\Local\\Temp\\ipykernel_34120\\2329139629.py:17: FutureWarning: The frame.append method is deprecated and will be removed from pandas in a future version. Use pandas.concat instead.\n",
      "  summary_df = summary_df.append({'Column Name': column_name, 'Mean': mean, 'Median': median,\n",
      "C:\\Users\\Sejal\\AppData\\Local\\Temp\\ipykernel_34120\\2329139629.py:17: FutureWarning: The frame.append method is deprecated and will be removed from pandas in a future version. Use pandas.concat instead.\n",
      "  summary_df = summary_df.append({'Column Name': column_name, 'Mean': mean, 'Median': median,\n"
     ]
    }
   ],
   "source": [
    "df = pd.read_csv('D:\\\\IIITD\\\\sem7\\\\DSc\\\\Dsc_Project\\\\Data_Science_Project\\\\dataset\\\\updated_dataset.csv', usecols=col_list)\n",
    "summary_df = pd.DataFrame(columns=['Column Name', 'Mean', 'Median', 'Mode'])\n",
    "\n",
    "\n",
    "for column_name in df.columns:\n",
    "    mean = df[column_name].mean()\n",
    "    median = df[column_name].median()\n",
    "    # min_occurrences = df[column_name].value_counts().min()\n",
    "    most_common_value = df[column_name].mode().values[0]\n",
    "    most_common_value_frequency = df[column_name].value_counts().max()\n",
    "    \n",
    "    # Calculate the least common value and its frequency\n",
    "    least_common_value = df[column_name].value_counts().idxmin()\n",
    "    least_common_value_frequency = df[column_name].value_counts().min()\n",
    "    \n",
    "    # Append the results to the summary DataFrame\n",
    "    summary_df = summary_df.append({'Column Name': column_name, 'Mean': mean, 'Median': median,\n",
    "                                    'Most Common Value': most_common_value, 'Most Common Value Frequency': most_common_value_frequency,\n",
    "                                    'Least Common Value': least_common_value, 'Least Common Value Frequency': least_common_value_frequency},\n",
    "                                   ignore_index=True)\n",
    "    # summary_df = summary_df.append({'Column Name': column_name, 'Mean': mean, 'Median': median, 'Min Occurrences': min_occurrences}, ignore_index=True)\n",
    "\n",
    "# Write the summary DataFrame to a CSV file\n",
    "summary_df.to_csv('Analysis(Column_I_to_O).csv', index=False)\n"
   ]
  }
 ],
 "metadata": {
  "kernelspec": {
   "display_name": "Python 3",
   "language": "python",
   "name": "python3"
  },
  "language_info": {
   "codemirror_mode": {
    "name": "ipython",
    "version": 3
   },
   "file_extension": ".py",
   "mimetype": "text/x-python",
   "name": "python",
   "nbconvert_exporter": "python",
   "pygments_lexer": "ipython3",
   "version": "3.10.8"
  },
  "orig_nbformat": 4
 },
 "nbformat": 4,
 "nbformat_minor": 2
}
