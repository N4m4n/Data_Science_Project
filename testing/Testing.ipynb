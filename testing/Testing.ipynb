{
  "nbformat": 4,
  "nbformat_minor": 0,
  "metadata": {
    "colab": {
      "provenance": []
    },
    "kernelspec": {
      "name": "python3",
      "display_name": "Python 3"
    },
    "language_info": {
      "name": "python"
    }
  },
  "cells": [
    {
      "cell_type": "code",
      "execution_count": null,
      "metadata": {
        "id": "N4wLMM_0l-W8"
      },
      "outputs": [],
      "source": [
        "# null hypothesis - medicine works on x% population\n",
        "# alternate hypothesis - medicine works on <x% population\n",
        "# z test and chi squared multiple times and plot for each iteration\n",
        "# significance value - 5%\n",
        "# one tailed test (left tailed)\n",
        "# do for all three medicines (three plots total, each having chi squared test and z test plots)"
      ]
    },
    {
      "cell_type": "code",
      "source": [
        "import numpy as np\n",
        "from scipy import stats"
      ],
      "metadata": {
        "id": "L7hfDctrsYyp"
      },
      "execution_count": null,
      "outputs": []
    },
    {
      "cell_type": "code",
      "source": [
        "def z_test(sample_data, pop_data):\n",
        "\n",
        "    population_mean = pop_data['Readmission'].mean()\n",
        "    population_stddev = pop_data['Readmission'].std()\n",
        "\n",
        "    alpha = 0.05\n",
        "\n",
        "    sample_mean = sample_data['Readmission'].mean()\n",
        "    sample_size = len(sample_data)\n",
        "\n",
        "    z_score = (sample_mean - population_mean) / (population_stddev / (sample_size ** 0.5))\n",
        "    critical_value = stats.norm.ppf(alpha)\n",
        "\n",
        "    if z_score < critical_value:\n",
        "        print(f\"Reject the null hypothesis. The sample mean is significantly less than {population_mean}.\")\n",
        "    else:\n",
        "        print(\"Fail to reject the null hypothesis. There is not enough evidence to conclude that the sample mean is significantly less than the population mean.\")\n",
        "\n",
        "    return z_score\n"
      ],
      "metadata": {
        "id": "KTQmnaEBprLv"
      },
      "execution_count": null,
      "outputs": []
    },
    {
      "cell_type": "code",
      "source": [
        "def chi_test(sample_data, pop_data):\n",
        "\n",
        "    expected = sample_data[sample_data['readmission']!=\"No\"]\n",
        "    observed = pop_data[pop_data['readmission']!='No']\n",
        "\n",
        "    chi = ((observed - expected)**2)/expected\n",
        "    chi2, p = stats.chisquare(f_obs=observed, f_exp=expected)\n",
        "\n",
        "    alpha = 0.05\n",
        "\n",
        "    if p < alpha:\n",
        "        print(\"The observed distribution is significantly different from the expected distribution.\")\n",
        "    else:\n",
        "        print(\"The observed distribution is not significantly different from the expected distribution.\")\n"
      ],
      "metadata": {
        "id": "CIKBkPvwrkB-"
      },
      "execution_count": null,
      "outputs": []
    }
  ]
}