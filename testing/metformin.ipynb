{
 "cells": [
  {
   "cell_type": "code",
   "execution_count": 7,
   "metadata": {},
   "outputs": [
    {
     "name": "stdout",
     "output_type": "stream",
     "text": [
      "        encounter_id  patient_nbr             race  gender      age  \\\n",
      "0             149190     55629189        Caucasian  Female  [10-20)   \n",
      "1              64410     86047875  AfricanAmerican  Female  [20-30)   \n",
      "2             500364     82442376        Caucasian    Male  [30-40)   \n",
      "3              16680     42519267        Caucasian    Male  [40-50)   \n",
      "4              35754     82637451        Caucasian    Male  [50-60)   \n",
      "...              ...          ...              ...     ...      ...   \n",
      "100239     443847548    100162476  AfricanAmerican    Male  [70-80)   \n",
      "100240     443847782     74694222  AfricanAmerican  Female  [80-90)   \n",
      "100241     443854148     41088789        Caucasian    Male  [70-80)   \n",
      "100242     443857166     31693671        Caucasian  Female  [80-90)   \n",
      "100243     443867222    175429310        Caucasian    Male  [70-80)   \n",
      "\n",
      "        admission_type_id  discharge_disposition_id  admission_source_id  \\\n",
      "0                       1                         1                    7   \n",
      "1                       1                         1                    7   \n",
      "2                       1                         1                    7   \n",
      "3                       1                         1                    7   \n",
      "4                       2                         1                    2   \n",
      "...                   ...                       ...                  ...   \n",
      "100239                  1                         3                    7   \n",
      "100240                  1                         4                    5   \n",
      "100241                  1                         1                    7   \n",
      "100242                  2                         3                    7   \n",
      "100243                  1                         1                    7   \n",
      "\n",
      "        time_in_hospital  num_lab_procedures  ...  citoglipton  insulin  \\\n",
      "0                      3                  59  ...           No       Up   \n",
      "1                      2                  11  ...           No       No   \n",
      "2                      2                  44  ...           No       Up   \n",
      "3                      1                  51  ...           No   Steady   \n",
      "4                      3                  31  ...           No   Steady   \n",
      "...                  ...                 ...  ...          ...      ...   \n",
      "100239                 3                  51  ...           No     Down   \n",
      "100240                 5                  33  ...           No   Steady   \n",
      "100241                 1                  53  ...           No     Down   \n",
      "100242                10                  45  ...           No       Up   \n",
      "100243                 6                  13  ...           No       No   \n",
      "\n",
      "        glyburide-metformin  glipizide-metformin  glimepiride-pioglitazone  \\\n",
      "0                        No                   No                        No   \n",
      "1                        No                   No                        No   \n",
      "2                        No                   No                        No   \n",
      "3                        No                   No                        No   \n",
      "4                        No                   No                        No   \n",
      "...                     ...                  ...                       ...   \n",
      "100239                   No                   No                        No   \n",
      "100240                   No                   No                        No   \n",
      "100241                   No                   No                        No   \n",
      "100242                   No                   No                        No   \n",
      "100243                   No                   No                        No   \n",
      "\n",
      "       metformin-rosiglitazone metformin-pioglitazone change  diabetesMed  \\\n",
      "0                           No                     No     Ch          Yes   \n",
      "1                           No                     No     No          Yes   \n",
      "2                           No                     No     Ch          Yes   \n",
      "3                           No                     No     Ch          Yes   \n",
      "4                           No                     No     No          Yes   \n",
      "...                        ...                    ...    ...          ...   \n",
      "100239                      No                     No     Ch          Yes   \n",
      "100240                      No                     No     No          Yes   \n",
      "100241                      No                     No     Ch          Yes   \n",
      "100242                      No                     No     Ch          Yes   \n",
      "100243                      No                     No     No           No   \n",
      "\n",
      "       readmitted  \n",
      "0             >30  \n",
      "1              NO  \n",
      "2              NO  \n",
      "3              NO  \n",
      "4             >30  \n",
      "...           ...  \n",
      "100239        >30  \n",
      "100240         NO  \n",
      "100241         NO  \n",
      "100242         NO  \n",
      "100243         NO  \n",
      "\n",
      "[100244 rows x 45 columns]\n"
     ]
    }
   ],
   "source": [
    "import pandas as pd\n",
    "\n",
    "# Replace 'your_file.csv' with the actual path of your CSV file\n",
    "file_path = '../dataset/updated_dataset.csv'\n",
    "\n",
    "# Use pandas read_csv function to read the CSV file\n",
    "data = pd.read_csv(file_path)\n",
    "\n",
    "# Display the data\n",
    "print(data)"
   ]
  },
  {
   "cell_type": "code",
   "execution_count": 8,
   "metadata": {},
   "outputs": [
    {
     "name": "stdout",
     "output_type": "stream",
     "text": [
      "89719\n"
     ]
    },
    {
     "data": {
      "text/plain": [
       "(100244, 45)"
      ]
     },
     "execution_count": 8,
     "metadata": {},
     "output_type": "execute_result"
    }
   ],
   "source": [
    "medToTest = 'glyburide'\n",
    "value_count = data[medToTest].value_counts()['No']\n",
    "print(value_count)\n",
    "data.shape\n",
    "\n",
    "\n"
   ]
  },
  {
   "cell_type": "code",
   "execution_count": 10,
   "metadata": {},
   "outputs": [
    {
     "name": "stdout",
     "output_type": "stream",
     "text": [
      "10525\n",
      "5713\n",
      "0.45719714964370545\n"
     ]
    }
   ],
   "source": [
    "total = filtered_data.shape[0]\n",
    "num_nos = filtered_data['readmitted'].value_counts()['NO']\n",
    "\n",
    "print(total)\n",
    "print(num_nos)\n",
    "readmissionRate = (total - num_nos)/total\n",
    "print(readmissionRate)"
   ]
  }
 ],
 "metadata": {
  "kernelspec": {
   "display_name": "Python 3",
   "language": "python",
   "name": "python3"
  },
  "language_info": {
   "codemirror_mode": {
    "name": "ipython",
    "version": 3
   },
   "file_extension": ".py",
   "mimetype": "text/x-python",
   "name": "python",
   "nbconvert_exporter": "python",
   "pygments_lexer": "ipython3",
   "version": "3.11.1"
  }
 },
 "nbformat": 4,
 "nbformat_minor": 2
}
