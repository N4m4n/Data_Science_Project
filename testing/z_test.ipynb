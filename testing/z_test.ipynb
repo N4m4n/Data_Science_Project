{
 "cells": [
  {
   "cell_type": "code",
   "execution_count": 9,
   "metadata": {},
   "outputs": [
    {
     "name": "stdout",
     "output_type": "stream",
     "text": [
      "        encounter_id  patient_nbr             race  gender      age  \\\n",
      "0             149190     55629189        Caucasian  Female  [10-20)   \n",
      "1              64410     86047875  AfricanAmerican  Female  [20-30)   \n",
      "2             500364     82442376        Caucasian    Male  [30-40)   \n",
      "3              16680     42519267        Caucasian    Male  [40-50)   \n",
      "4              35754     82637451        Caucasian    Male  [50-60)   \n",
      "...              ...          ...              ...     ...      ...   \n",
      "100239     443847548    100162476  AfricanAmerican    Male  [70-80)   \n",
      "100240     443847782     74694222  AfricanAmerican  Female  [80-90)   \n",
      "100241     443854148     41088789        Caucasian    Male  [70-80)   \n",
      "100242     443857166     31693671        Caucasian  Female  [80-90)   \n",
      "100243     443867222    175429310        Caucasian    Male  [70-80)   \n",
      "\n",
      "        admission_type_id  discharge_disposition_id  admission_source_id  \\\n",
      "0                       1                         1                    7   \n",
      "1                       1                         1                    7   \n",
      "2                       1                         1                    7   \n",
      "3                       1                         1                    7   \n",
      "4                       2                         1                    2   \n",
      "...                   ...                       ...                  ...   \n",
      "100239                  1                         3                    7   \n",
      "100240                  1                         4                    5   \n",
      "100241                  1                         1                    7   \n",
      "100242                  2                         3                    7   \n",
      "100243                  1                         1                    7   \n",
      "\n",
      "        time_in_hospital  num_lab_procedures  ...  citoglipton  insulin  \\\n",
      "0                      3                  59  ...           No       Up   \n",
      "1                      2                  11  ...           No       No   \n",
      "2                      2                  44  ...           No       Up   \n",
      "3                      1                  51  ...           No   Steady   \n",
      "4                      3                  31  ...           No   Steady   \n",
      "...                  ...                 ...  ...          ...      ...   \n",
      "100239                 3                  51  ...           No     Down   \n",
      "100240                 5                  33  ...           No   Steady   \n",
      "100241                 1                  53  ...           No     Down   \n",
      "100242                10                  45  ...           No       Up   \n",
      "100243                 6                  13  ...           No       No   \n",
      "\n",
      "        glyburide-metformin  glipizide-metformin  glimepiride-pioglitazone  \\\n",
      "0                        No                   No                        No   \n",
      "1                        No                   No                        No   \n",
      "2                        No                   No                        No   \n",
      "3                        No                   No                        No   \n",
      "4                        No                   No                        No   \n",
      "...                     ...                  ...                       ...   \n",
      "100239                   No                   No                        No   \n",
      "100240                   No                   No                        No   \n",
      "100241                   No                   No                        No   \n",
      "100242                   No                   No                        No   \n",
      "100243                   No                   No                        No   \n",
      "\n",
      "       metformin-rosiglitazone metformin-pioglitazone change  diabetesMed  \\\n",
      "0                           No                     No     Ch          Yes   \n",
      "1                           No                     No     No          Yes   \n",
      "2                           No                     No     Ch          Yes   \n",
      "3                           No                     No     Ch          Yes   \n",
      "4                           No                     No     No          Yes   \n",
      "...                        ...                    ...    ...          ...   \n",
      "100239                      No                     No     Ch          Yes   \n",
      "100240                      No                     No     No          Yes   \n",
      "100241                      No                     No     Ch          Yes   \n",
      "100242                      No                     No     Ch          Yes   \n",
      "100243                      No                     No     No           No   \n",
      "\n",
      "       readmitted  \n",
      "0             >30  \n",
      "1              NO  \n",
      "2              NO  \n",
      "3              NO  \n",
      "4             >30  \n",
      "...           ...  \n",
      "100239        >30  \n",
      "100240         NO  \n",
      "100241         NO  \n",
      "100242         NO  \n",
      "100243         NO  \n",
      "\n",
      "[100244 rows x 45 columns]\n"
     ]
    }
   ],
   "source": [
    "import pandas as pd\n",
    "from scipy import stats\n",
    "# Replace 'your_file.csv' with the actual path of your CSV file\n",
    "file_path = '../dataset/updated_dataset.csv'\n",
    "\n",
    "# Use pandas read_csv function to read the CSV file\n",
    "data = pd.read_csv(file_path)\n",
    "\n",
    "# Display the data\n",
    "print(data)"
   ]
  },
  {
   "cell_type": "code",
   "execution_count": 10,
   "metadata": {},
   "outputs": [
    {
     "data": {
      "text/plain": [
       "Steady    9160\n",
       "Up         809\n",
       "Down       556\n",
       "Name: glyburide, dtype: int64"
      ]
     },
     "execution_count": 10,
     "metadata": {},
     "output_type": "execute_result"
    }
   ],
   "source": [
    "medToTest = 'glyburide'\n",
    "value_count = data[medToTest].value_counts()['No']\n",
    "filtered_data = data[data[medToTest] != 'No']\n",
    "filtered_data[medToTest].value_counts()"
   ]
  },
  {
   "cell_type": "code",
   "execution_count": 11,
   "metadata": {},
   "outputs": [
    {
     "name": "stdout",
     "output_type": "stream",
     "text": [
      "54.280285035629454\n"
     ]
    }
   ],
   "source": [
    "total = filtered_data.shape[0]\n",
    "num_nos = filtered_data['readmitted'].value_counts()['NO']\n",
    "\n",
    "readmissionRate = ((total - num_nos)/total) * 100\n",
    "actualEffectiveOn = 100 - readmissionRate\n",
    "print(actualEffectiveOn)\n"
   ]
  },
  {
   "cell_type": "code",
   "execution_count": 23,
   "metadata": {},
   "outputs": [],
   "source": [
    "def z_test(sampleSize, filtered_data, actualEffectiveOn):\n",
    "    sampledData = filtered_data.sample(n=sampleSize)\n",
    "    total = sampledData.shape[0]\n",
    "    num_nos = sampledData['readmitted'].value_counts()['NO']\n",
    "\n",
    "    readmissionRate = ((total - num_nos)/total) * 100\n",
    "    effectiveOn = 100 - readmissionRate\n",
    "    alpha = 0.05\n",
    "    critical_value = stats.norm.ppf(alpha)\n",
    "    print(effectiveOn)\n",
    "    effectiveOn = effectiveOn/100\n",
    "    actualEffectiveOn = actualEffectiveOn/100\n",
    "    z_stat = (effectiveOn - actualEffectiveOn)/(((actualEffectiveOn * (1 - actualEffectiveOn))/sampleSize)**0.5)\n",
    "    print(z_stat)\n",
    "    print(critical_value)\n",
    "    if z_stat < critical_value:\n",
    "        \n",
    "        print(f\"Reject the null hypothesis. The sample mean is significantly less than {population_mean}.\")\n",
    "    else:\n",
    "        print(\"Fail to reject the null hypothesis. There is not enough evidence to conclude that the sample mean is significantly less than the population mean.\")\n",
    "\n",
    "\n"
   ]
  },
  {
   "cell_type": "code",
   "execution_count": 24,
   "metadata": {},
   "outputs": [
    {
     "name": "stdout",
     "output_type": "stream",
     "text": [
      "48.0\n",
      "-1.26068486246398\n",
      "-1.6448536269514729\n",
      "Fail to reject the null hypothesis. There is not enough evidence to conclude that the sample mean is significantly less than the population mean.\n",
      "56.0\n",
      "0.345210227089231\n",
      "-1.6448536269514729\n",
      "Fail to reject the null hypothesis. There is not enough evidence to conclude that the sample mean is significantly less than the population mean.\n",
      "49.0\n",
      "-1.0599479762698285\n",
      "-1.6448536269514729\n",
      "Fail to reject the null hypothesis. There is not enough evidence to conclude that the sample mean is significantly less than the population mean.\n",
      "55.0\n",
      "0.14447334089507963\n",
      "-1.6448536269514729\n",
      "Fail to reject the null hypothesis. There is not enough evidence to conclude that the sample mean is significantly less than the population mean.\n",
      "53.0\n",
      "-0.2570004314932231\n",
      "-1.6448536269514729\n",
      "Fail to reject the null hypothesis. There is not enough evidence to conclude that the sample mean is significantly less than the population mean.\n",
      "56.0\n",
      "0.345210227089231\n",
      "-1.6448536269514729\n",
      "Fail to reject the null hypothesis. There is not enough evidence to conclude that the sample mean is significantly less than the population mean.\n",
      "56.0\n",
      "0.345210227089231\n",
      "-1.6448536269514729\n",
      "Fail to reject the null hypothesis. There is not enough evidence to conclude that the sample mean is significantly less than the population mean.\n",
      "69.0\n",
      "2.9547897476131944\n",
      "-1.6448536269514729\n",
      "Fail to reject the null hypothesis. There is not enough evidence to conclude that the sample mean is significantly less than the population mean.\n",
      "53.0\n",
      "-0.2570004314932231\n",
      "-1.6448536269514729\n",
      "Fail to reject the null hypothesis. There is not enough evidence to conclude that the sample mean is significantly less than the population mean.\n",
      "59.0\n",
      "0.9474208856716829\n",
      "-1.6448536269514729\n",
      "Fail to reject the null hypothesis. There is not enough evidence to conclude that the sample mean is significantly less than the population mean.\n",
      "51.0\n",
      "-0.6584742038815259\n",
      "-1.6448536269514729\n",
      "Fail to reject the null hypothesis. There is not enough evidence to conclude that the sample mean is significantly less than the population mean.\n",
      "50.0\n",
      "-0.8592110900756772\n",
      "-1.6448536269514729\n",
      "Fail to reject the null hypothesis. There is not enough evidence to conclude that the sample mean is significantly less than the population mean.\n",
      "55.0\n",
      "0.14447334089507963\n",
      "-1.6448536269514729\n",
      "Fail to reject the null hypothesis. There is not enough evidence to conclude that the sample mean is significantly less than the population mean.\n",
      "56.0\n",
      "0.345210227089231\n",
      "-1.6448536269514729\n",
      "Fail to reject the null hypothesis. There is not enough evidence to conclude that the sample mean is significantly less than the population mean.\n",
      "50.0\n",
      "-0.8592110900756772\n",
      "-1.6448536269514729\n",
      "Fail to reject the null hypothesis. There is not enough evidence to conclude that the sample mean is significantly less than the population mean.\n",
      "61.0\n",
      "1.3488946580599857\n",
      "-1.6448536269514729\n",
      "Fail to reject the null hypothesis. There is not enough evidence to conclude that the sample mean is significantly less than the population mean.\n",
      "46.0\n",
      "-1.6621586348522817\n",
      "-1.6448536269514729\n"
     ]
    },
    {
     "ename": "NameError",
     "evalue": "name 'population_mean' is not defined",
     "output_type": "error",
     "traceback": [
      "\u001b[1;31m---------------------------------------------------------------------------\u001b[0m",
      "\u001b[1;31mNameError\u001b[0m                                 Traceback (most recent call last)",
      "\u001b[1;32mc:\\Users\\Naman Kaushik\\Documents\\IIITD\\Sem 7\\Dsc\\Data_Science_Project\\Data_Science_Project\\testing\\z_test.ipynb Cell 5\u001b[0m line \u001b[0;36m2\n\u001b[0;32m      <a href='vscode-notebook-cell:/c%3A/Users/Naman%20Kaushik/Documents/IIITD/Sem%207/Dsc/Data_Science_Project/Data_Science_Project/testing/z_test.ipynb#W4sZmlsZQ%3D%3D?line=0'>1</a>\u001b[0m \u001b[39mfor\u001b[39;00m i \u001b[39min\u001b[39;00m \u001b[39mrange\u001b[39m(\u001b[39m120\u001b[39m):\n\u001b[1;32m----> <a href='vscode-notebook-cell:/c%3A/Users/Naman%20Kaushik/Documents/IIITD/Sem%207/Dsc/Data_Science_Project/Data_Science_Project/testing/z_test.ipynb#W4sZmlsZQ%3D%3D?line=1'>2</a>\u001b[0m     z_test(\u001b[39m100\u001b[39;49m, filtered_data, actualEffectiveOn)\n",
      "\u001b[1;32mc:\\Users\\Naman Kaushik\\Documents\\IIITD\\Sem 7\\Dsc\\Data_Science_Project\\Data_Science_Project\\testing\\z_test.ipynb Cell 5\u001b[0m line \u001b[0;36m1\n\u001b[0;32m     <a href='vscode-notebook-cell:/c%3A/Users/Naman%20Kaushik/Documents/IIITD/Sem%207/Dsc/Data_Science_Project/Data_Science_Project/testing/z_test.ipynb#W4sZmlsZQ%3D%3D?line=14'>15</a>\u001b[0m \u001b[39mprint\u001b[39m(critical_value)\n\u001b[0;32m     <a href='vscode-notebook-cell:/c%3A/Users/Naman%20Kaushik/Documents/IIITD/Sem%207/Dsc/Data_Science_Project/Data_Science_Project/testing/z_test.ipynb#W4sZmlsZQ%3D%3D?line=15'>16</a>\u001b[0m \u001b[39mif\u001b[39;00m z_stat \u001b[39m<\u001b[39m critical_value:\n\u001b[1;32m---> <a href='vscode-notebook-cell:/c%3A/Users/Naman%20Kaushik/Documents/IIITD/Sem%207/Dsc/Data_Science_Project/Data_Science_Project/testing/z_test.ipynb#W4sZmlsZQ%3D%3D?line=17'>18</a>\u001b[0m     \u001b[39mprint\u001b[39m(\u001b[39mf\u001b[39m\u001b[39m\"\u001b[39m\u001b[39mReject the null hypothesis. The sample mean is significantly less than \u001b[39m\u001b[39m{\u001b[39;00mpopulation_mean\u001b[39m}\u001b[39;00m\u001b[39m.\u001b[39m\u001b[39m\"\u001b[39m)\n\u001b[0;32m     <a href='vscode-notebook-cell:/c%3A/Users/Naman%20Kaushik/Documents/IIITD/Sem%207/Dsc/Data_Science_Project/Data_Science_Project/testing/z_test.ipynb#W4sZmlsZQ%3D%3D?line=18'>19</a>\u001b[0m \u001b[39melse\u001b[39;00m:\n\u001b[0;32m     <a href='vscode-notebook-cell:/c%3A/Users/Naman%20Kaushik/Documents/IIITD/Sem%207/Dsc/Data_Science_Project/Data_Science_Project/testing/z_test.ipynb#W4sZmlsZQ%3D%3D?line=19'>20</a>\u001b[0m     \u001b[39mprint\u001b[39m(\u001b[39m\"\u001b[39m\u001b[39mFail to reject the null hypothesis. There is not enough evidence to conclude that the sample mean is significantly less than the population mean.\u001b[39m\u001b[39m\"\u001b[39m)\n",
      "\u001b[1;31mNameError\u001b[0m: name 'population_mean' is not defined"
     ]
    }
   ],
   "source": [
    "for i in range(120):\n",
    "    z_test(100, filtered_data, actualEffectiveOn)"
   ]
  }
 ],
 "metadata": {
  "kernelspec": {
   "display_name": "Python 3",
   "language": "python",
   "name": "python3"
  },
  "language_info": {
   "codemirror_mode": {
    "name": "ipython",
    "version": 3
   },
   "file_extension": ".py",
   "mimetype": "text/x-python",
   "name": "python",
   "nbconvert_exporter": "python",
   "pygments_lexer": "ipython3",
   "version": "3.11.1"
  }
 },
 "nbformat": 4,
 "nbformat_minor": 2
}
